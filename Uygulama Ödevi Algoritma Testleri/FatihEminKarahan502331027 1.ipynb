{
  "cells": [
    {
      "cell_type": "code",
      "source": [
        "'''\n",
        "label encoding\n",
        "K-Nearest Neighbor\n",
        "Naive Bayes Classifiers\n",
        "Logistic Regression\n",
        "Decision Trees\n",
        "DecisionTreeRegressor\n",
        "Ensembles Learning\n",
        "Random forests\n",
        "Gradient boosted regression trees \n",
        "Support Vector Machines\n",
        "Kernelized Support Vector Machines\n",
        "Confusion matrix\n",
        "'''"
      ],
      "outputs": [
        {
          "output_type": "execute_result",
          "execution_count": 94,
          "data": {
            "text/plain": "'\\nlabel encoding\\nLinear Regression\\nPolynomial Regression\\nK-Nearest Neighbor\\nNaive Bayes Classifiers\\nLogistic Regression\\nDecision Trees\\nDecisionTreeRegressor\\nEnsembles Learning\\nRandom forests\\nGradient boosted regression trees \\nSupport Vector Machines\\nKernelized Support Vector Machines\\nConfusion matrix\\n'"
          },
          "metadata": {}
        }
      ],
      "execution_count": 94,
      "metadata": {},
      "id": "315e6ddf-f2e3-45f2-8523-c7488e9ecf26"
    },
    {
      "cell_type": "code",
      "source": [
        "import pandas as pd\n",
        "from sklearn.preprocessing import LabelEncoder\n",
        "from sklearn.model_selection import train_test_split\n",
        "from sklearn.linear_model import LinearRegression, LogisticRegression\n",
        "from sklearn.preprocessing import PolynomialFeatures\n",
        "from sklearn.neighbors import KNeighborsClassifier\n",
        "from sklearn.naive_bayes import GaussianNB\n",
        "from sklearn.tree import DecisionTreeClassifier, DecisionTreeRegressor\n",
        "from sklearn.ensemble import RandomForestClassifier, GradientBoostingClassifier\n",
        "from sklearn.svm import SVC\n",
        "from sklearn.metrics import confusion_matrix\n",
        "from sklearn.metrics import classification_report\n",
        "from sklearn.pipeline import make_pipeline\n",
        "from sklearn.ensemble import VotingClassifier"
      ],
      "outputs": [],
      "execution_count": 95,
      "metadata": {},
      "id": "faac2aa5-584a-4952-aad4-5c831347b28b"
    },
    {
      "cell_type": "code",
      "source": [
        "veriler = pd.read_csv('deneme.csv') #Veriler Yüklendi"
      ],
      "outputs": [],
      "execution_count": 96,
      "metadata": {},
      "id": "459ed96d-f70c-470a-bd45-709e303c112b"
    },
    {
      "cell_type": "code",
      "source": [
        "print(veriler)#Veriler Yüklendi mi kontrol edildi"
      ],
      "outputs": [
        {
          "output_type": "stream",
          "name": "stdout",
          "text": "      meanfreq        sd    median       Q25       Q75       IQR       skew  \\\n0     0.059781  0.064241  0.032027  0.015071  0.090193  0.075122  12.863462   \n1     0.066009  0.067310  0.040229  0.019414  0.092666  0.073252  22.423285   \n2     0.077316  0.083829  0.036718  0.008701  0.131908  0.123207  30.757155   \n3     0.151228  0.072111  0.158011  0.096582  0.207955  0.111374   1.232831   \n4     0.135120  0.079146  0.124656  0.078720  0.206045  0.127325   1.101174   \n...        ...       ...       ...       ...       ...       ...        ...   \n3163  0.131884  0.084734  0.153707  0.049285  0.201144  0.151859   1.762129   \n3164  0.116221  0.089221  0.076758  0.042718  0.204911  0.162193   0.693730   \n3165  0.142056  0.095798  0.183731  0.033424  0.224360  0.190936   1.876502   \n3166  0.143659  0.090628  0.184976  0.043508  0.219943  0.176435   1.591065   \n3167  0.165509  0.092884  0.183044  0.070072  0.250827  0.180756   1.705029   \n\n             kurt    sp.ent       sfm  ...  centroid   meanfun    minfun  \\\n0      274.402906  0.893369  0.491918  ...  0.059781  0.084279  0.015702   \n1      634.613855  0.892193  0.513724  ...  0.066009  0.107937  0.015826   \n2     1024.927705  0.846389  0.478905  ...  0.077316  0.098706  0.015656   \n3        4.177296  0.963322  0.727232  ...  0.151228  0.088965  0.017798   \n4        4.333713  0.971955  0.783568  ...  0.135120  0.106398  0.016931   \n...           ...       ...       ...  ...       ...       ...       ...   \n3163     6.630383  0.962934  0.763182  ...  0.131884  0.182790  0.083770   \n3164     2.503954  0.960716  0.709570  ...  0.116221  0.188980  0.034409   \n3165     6.604509  0.946854  0.654196  ...  0.142056  0.209918  0.039506   \n3166     5.388298  0.950436  0.675470  ...  0.143659  0.172375  0.034483   \n3167     5.769115  0.938829  0.601529  ...  0.165509  0.185607  0.062257   \n\n        maxfun   meandom    mindom    maxdom   dfrange   modindx   label  \n0     0.275862  0.007812  0.007812  0.007812  0.000000  0.000000    male  \n1     0.250000  0.009014  0.007812  0.054688  0.046875  0.052632    male  \n2     0.271186  0.007990  0.007812  0.015625  0.007812  0.046512    male  \n3     0.250000  0.201497  0.007812  0.562500  0.554688  0.247119    male  \n4     0.266667  0.712812  0.007812  5.484375  5.476562  0.208274    male  \n...        ...       ...       ...       ...       ...       ...     ...  \n3163  0.262295  0.832899  0.007812  4.210938  4.203125  0.161929  female  \n3164  0.275862  0.909856  0.039062  3.679688  3.640625  0.277897  female  \n3165  0.275862  0.494271  0.007812  2.937500  2.929688  0.194759  female  \n3166  0.250000  0.791360  0.007812  3.593750  3.585938  0.311002  female  \n3167  0.271186  0.227022  0.007812  0.554688  0.546875  0.350000  female  \n\n[3168 rows x 21 columns]\n"
        }
      ],
      "execution_count": 97,
      "metadata": {},
      "id": "804d316a-bbb7-440c-8464-cd12cb370f53"
    },
    {
      "cell_type": "code",
      "source": [
        "print(veriler.isnull())#Verilerde boş değer var mı kontrol edildi"
      ],
      "outputs": [
        {
          "output_type": "stream",
          "name": "stdout",
          "text": "      meanfreq     sd  median    Q25    Q75    IQR   skew   kurt  sp.ent  \\\n0        False  False   False  False  False  False  False  False   False   \n1        False  False   False  False  False  False  False  False   False   \n2        False  False   False  False  False  False  False  False   False   \n3        False  False   False  False  False  False  False  False   False   \n4        False  False   False  False  False  False  False  False   False   \n...        ...    ...     ...    ...    ...    ...    ...    ...     ...   \n3163     False  False   False  False  False  False  False  False   False   \n3164     False  False   False  False  False  False  False  False   False   \n3165     False  False   False  False  False  False  False  False   False   \n3166     False  False   False  False  False  False  False  False   False   \n3167     False  False   False  False  False  False  False  False   False   \n\n        sfm  ...  centroid  meanfun  minfun  maxfun  meandom  mindom  maxdom  \\\n0     False  ...     False    False   False   False    False   False   False   \n1     False  ...     False    False   False   False    False   False   False   \n2     False  ...     False    False   False   False    False   False   False   \n3     False  ...     False    False   False   False    False   False   False   \n4     False  ...     False    False   False   False    False   False   False   \n...     ...  ...       ...      ...     ...     ...      ...     ...     ...   \n3163  False  ...     False    False   False   False    False   False   False   \n3164  False  ...     False    False   False   False    False   False   False   \n3165  False  ...     False    False   False   False    False   False   False   \n3166  False  ...     False    False   False   False    False   False   False   \n3167  False  ...     False    False   False   False    False   False   False   \n\n      dfrange  modindx  label  \n0       False    False  False  \n1       False    False  False  \n2       False    False  False  \n3       False    False  False  \n4       False    False  False  \n...       ...      ...    ...  \n3163    False    False  False  \n3164    False    False  False  \n3165    False    False  False  \n3166    False    False  False  \n3167    False    False  False  \n\n[3168 rows x 21 columns]\n"
        }
      ],
      "execution_count": 98,
      "metadata": {},
      "id": "b9a5c002-e6db-4924-8fc2-3c28c5d7f08e"
    },
    {
      "cell_type": "code",
      "source": [
        "label_encoder = LabelEncoder()\n",
        "veriler['Cinsiyet_Encoded'] = label_encoder.fit_transform(veriler['label'])#Cinsiyet sütunun sayısal değere döndürme\n",
        "\n",
        "print(veriler)"
      ],
      "outputs": [
        {
          "output_type": "stream",
          "name": "stdout",
          "text": "      meanfreq        sd    median       Q25       Q75       IQR       skew  \\\n0     0.059781  0.064241  0.032027  0.015071  0.090193  0.075122  12.863462   \n1     0.066009  0.067310  0.040229  0.019414  0.092666  0.073252  22.423285   \n2     0.077316  0.083829  0.036718  0.008701  0.131908  0.123207  30.757155   \n3     0.151228  0.072111  0.158011  0.096582  0.207955  0.111374   1.232831   \n4     0.135120  0.079146  0.124656  0.078720  0.206045  0.127325   1.101174   \n...        ...       ...       ...       ...       ...       ...        ...   \n3163  0.131884  0.084734  0.153707  0.049285  0.201144  0.151859   1.762129   \n3164  0.116221  0.089221  0.076758  0.042718  0.204911  0.162193   0.693730   \n3165  0.142056  0.095798  0.183731  0.033424  0.224360  0.190936   1.876502   \n3166  0.143659  0.090628  0.184976  0.043508  0.219943  0.176435   1.591065   \n3167  0.165509  0.092884  0.183044  0.070072  0.250827  0.180756   1.705029   \n\n             kurt    sp.ent       sfm  ...   meanfun    minfun    maxfun  \\\n0      274.402906  0.893369  0.491918  ...  0.084279  0.015702  0.275862   \n1      634.613855  0.892193  0.513724  ...  0.107937  0.015826  0.250000   \n2     1024.927705  0.846389  0.478905  ...  0.098706  0.015656  0.271186   \n3        4.177296  0.963322  0.727232  ...  0.088965  0.017798  0.250000   \n4        4.333713  0.971955  0.783568  ...  0.106398  0.016931  0.266667   \n...           ...       ...       ...  ...       ...       ...       ...   \n3163     6.630383  0.962934  0.763182  ...  0.182790  0.083770  0.262295   \n3164     2.503954  0.960716  0.709570  ...  0.188980  0.034409  0.275862   \n3165     6.604509  0.946854  0.654196  ...  0.209918  0.039506  0.275862   \n3166     5.388298  0.950436  0.675470  ...  0.172375  0.034483  0.250000   \n3167     5.769115  0.938829  0.601529  ...  0.185607  0.062257  0.271186   \n\n       meandom    mindom    maxdom   dfrange   modindx   label  \\\n0     0.007812  0.007812  0.007812  0.000000  0.000000    male   \n1     0.009014  0.007812  0.054688  0.046875  0.052632    male   \n2     0.007990  0.007812  0.015625  0.007812  0.046512    male   \n3     0.201497  0.007812  0.562500  0.554688  0.247119    male   \n4     0.712812  0.007812  5.484375  5.476562  0.208274    male   \n...        ...       ...       ...       ...       ...     ...   \n3163  0.832899  0.007812  4.210938  4.203125  0.161929  female   \n3164  0.909856  0.039062  3.679688  3.640625  0.277897  female   \n3165  0.494271  0.007812  2.937500  2.929688  0.194759  female   \n3166  0.791360  0.007812  3.593750  3.585938  0.311002  female   \n3167  0.227022  0.007812  0.554688  0.546875  0.350000  female   \n\n      Cinsiyet_Encoded  \n0                    1  \n1                    1  \n2                    1  \n3                    1  \n4                    1  \n...                ...  \n3163                 0  \n3164                 0  \n3165                 0  \n3166                 0  \n3167                 0  \n\n[3168 rows x 22 columns]\n"
        }
      ],
      "execution_count": 99,
      "metadata": {},
      "id": "f4f3a1fd-2a9d-4721-a26f-8c9f52547ca4"
    },
    {
      "cell_type": "code",
      "source": [
        "X = veriler.iloc[:, :-2]  # Son iki sütunu almayı bırakıp geri kalanlar X olarak alınır\n",
        "y = veriler.iloc[:, -1:]\n",
        "print(X)"
      ],
      "outputs": [
        {
          "output_type": "stream",
          "name": "stdout",
          "text": "      meanfreq        sd    median       Q25       Q75       IQR       skew  \\\n0     0.059781  0.064241  0.032027  0.015071  0.090193  0.075122  12.863462   \n1     0.066009  0.067310  0.040229  0.019414  0.092666  0.073252  22.423285   \n2     0.077316  0.083829  0.036718  0.008701  0.131908  0.123207  30.757155   \n3     0.151228  0.072111  0.158011  0.096582  0.207955  0.111374   1.232831   \n4     0.135120  0.079146  0.124656  0.078720  0.206045  0.127325   1.101174   \n...        ...       ...       ...       ...       ...       ...        ...   \n3163  0.131884  0.084734  0.153707  0.049285  0.201144  0.151859   1.762129   \n3164  0.116221  0.089221  0.076758  0.042718  0.204911  0.162193   0.693730   \n3165  0.142056  0.095798  0.183731  0.033424  0.224360  0.190936   1.876502   \n3166  0.143659  0.090628  0.184976  0.043508  0.219943  0.176435   1.591065   \n3167  0.165509  0.092884  0.183044  0.070072  0.250827  0.180756   1.705029   \n\n             kurt    sp.ent       sfm      mode  centroid   meanfun    minfun  \\\n0      274.402906  0.893369  0.491918  0.000000  0.059781  0.084279  0.015702   \n1      634.613855  0.892193  0.513724  0.000000  0.066009  0.107937  0.015826   \n2     1024.927705  0.846389  0.478905  0.000000  0.077316  0.098706  0.015656   \n3        4.177296  0.963322  0.727232  0.083878  0.151228  0.088965  0.017798   \n4        4.333713  0.971955  0.783568  0.104261  0.135120  0.106398  0.016931   \n...           ...       ...       ...       ...       ...       ...       ...   \n3163     6.630383  0.962934  0.763182  0.200836  0.131884  0.182790  0.083770   \n3164     2.503954  0.960716  0.709570  0.013683  0.116221  0.188980  0.034409   \n3165     6.604509  0.946854  0.654196  0.008006  0.142056  0.209918  0.039506   \n3166     5.388298  0.950436  0.675470  0.212202  0.143659  0.172375  0.034483   \n3167     5.769115  0.938829  0.601529  0.267702  0.165509  0.185607  0.062257   \n\n        maxfun   meandom    mindom    maxdom   dfrange   modindx  \n0     0.275862  0.007812  0.007812  0.007812  0.000000  0.000000  \n1     0.250000  0.009014  0.007812  0.054688  0.046875  0.052632  \n2     0.271186  0.007990  0.007812  0.015625  0.007812  0.046512  \n3     0.250000  0.201497  0.007812  0.562500  0.554688  0.247119  \n4     0.266667  0.712812  0.007812  5.484375  5.476562  0.208274  \n...        ...       ...       ...       ...       ...       ...  \n3163  0.262295  0.832899  0.007812  4.210938  4.203125  0.161929  \n3164  0.275862  0.909856  0.039062  3.679688  3.640625  0.277897  \n3165  0.275862  0.494271  0.007812  2.937500  2.929688  0.194759  \n3166  0.250000  0.791360  0.007812  3.593750  3.585938  0.311002  \n3167  0.271186  0.227022  0.007812  0.554688  0.546875  0.350000  \n\n[3168 rows x 20 columns]\n"
        }
      ],
      "execution_count": 100,
      "metadata": {
        "scrolled": true
      },
      "id": "172d7e1b-996b-4dd3-8afe-867c4fe73c8a"
    },
    {
      "cell_type": "code",
      "source": [
        "print(y)"
      ],
      "outputs": [
        {
          "output_type": "stream",
          "name": "stdout",
          "text": "      Cinsiyet_Encoded\n0                    1\n1                    1\n2                    1\n3                    1\n4                    1\n...                ...\n3163                 0\n3164                 0\n3165                 0\n3166                 0\n3167                 0\n\n[3168 rows x 1 columns]\n"
        }
      ],
      "execution_count": 101,
      "metadata": {},
      "id": "2685fcf4-9cd1-4d63-bf8f-f1458a485ecb"
    },
    {
      "cell_type": "code",
      "source": [
        "# Veriyi eğitim ve test setlerine bölmek\n",
        "X_train, X_test, y_train, y_test = train_test_split(X, y, test_size=0.2, random_state=42)"
      ],
      "outputs": [],
      "execution_count": 102,
      "metadata": {},
      "id": "4d82ca97-1358-4c07-b0c0-b455ad578f2c"
    },
    {
      "cell_type": "code",
      "source": [
        "model = KNeighborsClassifier()\n",
        "model.fit(X_train, y_train)\n",
        "\n",
        "y_pred = model.predict(X_test)\n",
        "cm = confusion_matrix(y_test, y_pred)\n",
        "\n",
        "print(\"Confusion matrix:\")\n",
        "print(cm)\n",
        "\n",
        "report = classification_report(y_test, y_pred)\n",
        "\n",
        "print(\"Classification report:\")\n",
        "print(report)\n"
      ],
      "outputs": [
        {
          "output_type": "stream",
          "name": "stdout",
          "text": "Confusion matrix:\n[[208  89]\n [ 98 239]]\nClassification report:\n              precision    recall  f1-score   support\n\n           0       0.68      0.70      0.69       297\n           1       0.73      0.71      0.72       337\n\n    accuracy                           0.71       634\n   macro avg       0.70      0.70      0.70       634\nweighted avg       0.71      0.71      0.71       634\n\n"
        },
        {
          "output_type": "stream",
          "name": "stderr",
          "text": "C:\\Users\\fatih\\anaconda3\\Lib\\site-packages\\sklearn\\neighbors\\_classification.py:215: DataConversionWarning: A column-vector y was passed when a 1d array was expected. Please change the shape of y to (n_samples,), for example using ravel().\n  return self._fit(X, y)\n"
        }
      ],
      "execution_count": 125,
      "metadata": {},
      "id": "6736bd35-54ce-43f9-b22c-c22fdd7f6a03"
    },
    {
      "cell_type": "code",
      "source": [
        "model = GaussianNB()\n",
        "\n",
        "\n",
        "model.fit(X_train, y_train)\n",
        "\n",
        "\n",
        "y_pred = model.predict(X_test)\n",
        "cm = confusion_matrix(y_test, y_pred)\n",
        "\n",
        "print(\"Confusion matrix:\")\n",
        "print(cm)\n",
        "\n",
        "report = classification_report(y_test, y_pred)\n",
        "\n",
        "print(\"Classification report:\")\n",
        "print(report)"
      ],
      "outputs": [
        {
          "output_type": "stream",
          "name": "stdout",
          "text": "Confusion matrix:\n[[266  31]\n [ 30 307]]\nClassification report:\n              precision    recall  f1-score   support\n\n           0       0.90      0.90      0.90       297\n           1       0.91      0.91      0.91       337\n\n    accuracy                           0.90       634\n   macro avg       0.90      0.90      0.90       634\nweighted avg       0.90      0.90      0.90       634\n\n"
        },
        {
          "output_type": "stream",
          "name": "stderr",
          "text": "C:\\Users\\fatih\\anaconda3\\Lib\\site-packages\\sklearn\\utils\\validation.py:1143: DataConversionWarning: A column-vector y was passed when a 1d array was expected. Please change the shape of y to (n_samples, ), for example using ravel().\n  y = column_or_1d(y, warn=True)\n"
        }
      ],
      "execution_count": 124,
      "metadata": {},
      "id": "6dd76a0b-2cc5-4683-9af6-183d4bf8296e"
    },
    {
      "cell_type": "code",
      "source": [
        "\n",
        "model = LogisticRegression()\n",
        "\n",
        "\n",
        "model.fit(X_train, y_train)\n",
        "\n",
        "\n",
        "y_pred = model.predict(X_test)\n",
        "cm = confusion_matrix(y_test, y_pred)\n",
        "\n",
        "print(\"Confusion matrix:\")\n",
        "print(cm)\n",
        "\n",
        "report = classification_report(y_test, y_pred)\n",
        "\n",
        "print(\"Classification report:\")\n",
        "print(report)"
      ],
      "outputs": [
        {
          "output_type": "stream",
          "name": "stdout",
          "text": "Confusion matrix:\n[[234  63]\n [ 56 281]]\nClassification report:\n              precision    recall  f1-score   support\n\n           0       0.81      0.79      0.80       297\n           1       0.82      0.83      0.83       337\n\n    accuracy                           0.81       634\n   macro avg       0.81      0.81      0.81       634\nweighted avg       0.81      0.81      0.81       634\n\n"
        },
        {
          "output_type": "stream",
          "name": "stderr",
          "text": "C:\\Users\\fatih\\anaconda3\\Lib\\site-packages\\sklearn\\utils\\validation.py:1143: DataConversionWarning: A column-vector y was passed when a 1d array was expected. Please change the shape of y to (n_samples, ), for example using ravel().\n  y = column_or_1d(y, warn=True)\nC:\\Users\\fatih\\anaconda3\\Lib\\site-packages\\sklearn\\linear_model\\_logistic.py:458: ConvergenceWarning: lbfgs failed to converge (status=1):\nSTOP: TOTAL NO. of ITERATIONS REACHED LIMIT.\n\nIncrease the number of iterations (max_iter) or scale the data as shown in:\n    https://scikit-learn.org/stable/modules/preprocessing.html\nPlease also refer to the documentation for alternative solver options:\n    https://scikit-learn.org/stable/modules/linear_model.html#logistic-regression\n  n_iter_i = _check_optimize_result(\n"
        }
      ],
      "execution_count": 123,
      "metadata": {},
      "id": "1efe96e3-6623-4d1d-8366-bc43109842dc"
    },
    {
      "cell_type": "code",
      "source": [
        "model = DecisionTreeClassifier()\n",
        "\n",
        "\n",
        "model.fit(X_train, y_train)\n",
        "\n",
        "\n",
        "y_pred = model.predict(X_test)\n",
        "cm = confusion_matrix(y_test, y_pred)\n",
        "\n",
        "print(\"Confusion matrix:\")\n",
        "print(cm)\n",
        "\n",
        "report = classification_report(y_test, y_pred)\n",
        "\n",
        "print(\"Classification report:\")\n",
        "print(report)"
      ],
      "outputs": [
        {
          "output_type": "stream",
          "name": "stdout",
          "text": "Confusion matrix:\n[[293   4]\n [ 16 321]]\nClassification report:\n              precision    recall  f1-score   support\n\n           0       0.95      0.99      0.97       297\n           1       0.99      0.95      0.97       337\n\n    accuracy                           0.97       634\n   macro avg       0.97      0.97      0.97       634\nweighted avg       0.97      0.97      0.97       634\n\n"
        }
      ],
      "execution_count": 122,
      "metadata": {},
      "id": "9499c8bb-42b8-4967-90e0-78b96945e90c"
    },
    {
      "cell_type": "code",
      "source": [
        "model = VotingClassifier(estimators=[('lr', LogisticRegression()), ('dt', DecisionTreeClassifier()), ('rf', RandomForestClassifier())])\n",
        "\n",
        "\n",
        "model.fit(X_train, y_train)\n",
        "\n",
        "\n",
        "y_pred = model.predict(X_test)\n",
        "cm = confusion_matrix(y_test, y_pred)\n",
        "\n",
        "print(\"Confusion matrix:\")\n",
        "print(cm)\n",
        "\n",
        "report = classification_report(y_test, y_pred)\n",
        "\n",
        "print(\"Classification report:\")\n",
        "print(report)"
      ],
      "outputs": [
        {
          "output_type": "stream",
          "name": "stderr",
          "text": "C:\\Users\\fatih\\anaconda3\\Lib\\site-packages\\sklearn\\preprocessing\\_label.py:99: DataConversionWarning: A column-vector y was passed when a 1d array was expected. Please change the shape of y to (n_samples, ), for example using ravel().\n  y = column_or_1d(y, warn=True)\nC:\\Users\\fatih\\anaconda3\\Lib\\site-packages\\sklearn\\preprocessing\\_label.py:134: DataConversionWarning: A column-vector y was passed when a 1d array was expected. Please change the shape of y to (n_samples, ), for example using ravel().\n  y = column_or_1d(y, dtype=self.classes_.dtype, warn=True)\nC:\\Users\\fatih\\anaconda3\\Lib\\site-packages\\sklearn\\linear_model\\_logistic.py:458: ConvergenceWarning: lbfgs failed to converge (status=1):\nSTOP: TOTAL NO. of ITERATIONS REACHED LIMIT.\n\nIncrease the number of iterations (max_iter) or scale the data as shown in:\n    https://scikit-learn.org/stable/modules/preprocessing.html\nPlease also refer to the documentation for alternative solver options:\n    https://scikit-learn.org/stable/modules/linear_model.html#logistic-regression\n  n_iter_i = _check_optimize_result(\n"
        },
        {
          "output_type": "stream",
          "name": "stdout",
          "text": "Confusion matrix:\n[[291   6]\n [ 12 325]]\nClassification report:\n              precision    recall  f1-score   support\n\n           0       0.96      0.98      0.97       297\n           1       0.98      0.96      0.97       337\n\n    accuracy                           0.97       634\n   macro avg       0.97      0.97      0.97       634\nweighted avg       0.97      0.97      0.97       634\n\n"
        }
      ],
      "execution_count": 121,
      "metadata": {},
      "id": "d21c2cc4-5dc2-40aa-855b-d56b386c9a7b"
    },
    {
      "cell_type": "code",
      "source": [
        "\n",
        "model = RandomForestClassifier()\n",
        "\n",
        "\n",
        "model.fit(X_train, y_train)\n",
        "\n",
        "\n",
        "y_pred = model.predict(X_test)\n",
        "cm = confusion_matrix(y_test, y_pred)\n",
        "\n",
        "print(\"Confusion matrix:\")\n",
        "print(cm)\n",
        "\n",
        "report = classification_report(y_test, y_pred)\n",
        "\n",
        "print(\"Classification report:\")\n",
        "print(report)"
      ],
      "outputs": [
        {
          "output_type": "stream",
          "name": "stderr",
          "text": "C:\\Users\\fatih\\AppData\\Local\\Temp\\ipykernel_12936\\1698215546.py:4: DataConversionWarning: A column-vector y was passed when a 1d array was expected. Please change the shape of y to (n_samples,), for example using ravel().\n  model.fit(X_train, y_train)\n"
        },
        {
          "output_type": "stream",
          "name": "stdout",
          "text": "Confusion matrix:\n[[295   2]\n [  9 328]]\nClassification report:\n              precision    recall  f1-score   support\n\n           0       0.97      0.99      0.98       297\n           1       0.99      0.97      0.98       337\n\n    accuracy                           0.98       634\n   macro avg       0.98      0.98      0.98       634\nweighted avg       0.98      0.98      0.98       634\n\n"
        }
      ],
      "execution_count": 120,
      "metadata": {},
      "id": "f4c5a259-eee1-49ff-b33a-f5d07f59605e"
    },
    {
      "cell_type": "code",
      "source": [
        "\n",
        "model = GradientBoostingClassifier()\n",
        "\n",
        "\n",
        "model.fit(X_train, y_train)\n",
        "\n",
        "\n",
        "y_pred = model.predict(X_test)\n",
        "cm = confusion_matrix(y_test, y_pred)\n",
        "\n",
        "print(\"Confusion matrix:\")\n",
        "print(cm)\n",
        "\n",
        "report = classification_report(y_test, y_pred)\n",
        "\n",
        "print(\"Classification report:\")\n",
        "print(report)"
      ],
      "outputs": [
        {
          "output_type": "stream",
          "name": "stderr",
          "text": "C:\\Users\\fatih\\anaconda3\\Lib\\site-packages\\sklearn\\ensemble\\_gb.py:437: DataConversionWarning: A column-vector y was passed when a 1d array was expected. Please change the shape of y to (n_samples, ), for example using ravel().\n  y = column_or_1d(y, warn=True)\n"
        },
        {
          "output_type": "stream",
          "name": "stdout",
          "text": "Confusion matrix:\n[[294   3]\n [  8 329]]\nClassification report:\n              precision    recall  f1-score   support\n\n           0       0.97      0.99      0.98       297\n           1       0.99      0.98      0.98       337\n\n    accuracy                           0.98       634\n   macro avg       0.98      0.98      0.98       634\nweighted avg       0.98      0.98      0.98       634\n\n"
        }
      ],
      "execution_count": 119,
      "metadata": {},
      "id": "cb55fe92-c2f6-4131-9969-2d5bdca56084"
    },
    {
      "cell_type": "code",
      "source": [
        "model = SVC()\n",
        "\n",
        "\n",
        "model.fit(X_train, y_train)\n",
        "\n",
        "\n",
        "y_pred = model.predict(X_test)\n",
        "cm = confusion_matrix(y_test, y_pred)\n",
        "\n",
        "print(\"Confusion matrix:\")\n",
        "print(cm)\n",
        "\n",
        "report = classification_report(y_test, y_pred)\n",
        "\n",
        "print(\"Classification report:\")\n",
        "print(report)"
      ],
      "outputs": [
        {
          "output_type": "stream",
          "name": "stderr",
          "text": "C:\\Users\\fatih\\anaconda3\\Lib\\site-packages\\sklearn\\utils\\validation.py:1143: DataConversionWarning: A column-vector y was passed when a 1d array was expected. Please change the shape of y to (n_samples, ), for example using ravel().\n  y = column_or_1d(y, warn=True)\n"
        },
        {
          "output_type": "stream",
          "name": "stdout",
          "text": "Confusion matrix:\n[[171 126]\n [ 92 245]]\nClassification report:\n              precision    recall  f1-score   support\n\n           0       0.65      0.58      0.61       297\n           1       0.66      0.73      0.69       337\n\n    accuracy                           0.66       634\n   macro avg       0.66      0.65      0.65       634\nweighted avg       0.66      0.66      0.65       634\n\n"
        }
      ],
      "execution_count": 118,
      "metadata": {},
      "id": "e3851d24-6584-4ee5-a1e8-8f483c3abf4e"
    },
    {
      "cell_type": "code",
      "source": [
        "\n",
        "model = SVC(kernel='rbf')\n",
        "\n",
        "\n",
        "model.fit(X_train, y_train)\n",
        "\n",
        "\n",
        "y_pred = model.predict(X_test)\n",
        "\n",
        "\n",
        "cm = confusion_matrix(y_test, y_pred)\n",
        "\n",
        "print(\"Confusion matrix:\")\n",
        "print(cm)\n",
        "\n",
        "report = classification_report(y_test, y_pred)\n",
        "\n",
        "print(\"Classification report:\")\n",
        "print(report)"
      ],
      "outputs": [
        {
          "output_type": "stream",
          "name": "stderr",
          "text": "C:\\Users\\fatih\\anaconda3\\Lib\\site-packages\\sklearn\\utils\\validation.py:1143: DataConversionWarning: A column-vector y was passed when a 1d array was expected. Please change the shape of y to (n_samples, ), for example using ravel().\n  y = column_or_1d(y, warn=True)\n"
        },
        {
          "output_type": "stream",
          "name": "stdout",
          "text": "Confusion matrix:\n[[171 126]\n [ 92 245]]\nClassification report:\n              precision    recall  f1-score   support\n\n           0       0.65      0.58      0.61       297\n           1       0.66      0.73      0.69       337\n\n    accuracy                           0.66       634\n   macro avg       0.66      0.65      0.65       634\nweighted avg       0.66      0.66      0.65       634\n\n"
        }
      ],
      "execution_count": 117,
      "metadata": {},
      "id": "5bbb6093-7583-429f-b3c8-359c46c71d85"
    },
    {
      "cell_type": "code",
      "source": [
        "print(y_test)"
      ],
      "outputs": [
        {
          "output_type": "stream",
          "name": "stdout",
          "text": "      Cinsiyet_Encoded\n2148                 0\n1124                 1\n170                  1\n3158                 0\n2229                 0\n...                ...\n3007                 0\n912                  1\n533                  1\n857                  1\n2594                 0\n\n[634 rows x 1 columns]\n"
        }
      ],
      "execution_count": 114,
      "metadata": {},
      "id": "66f12146-dcdd-4605-a191-f000b993decd"
    },
    {
      "cell_type": "code",
      "source": [],
      "outputs": [],
      "execution_count": null,
      "metadata": {},
      "id": "d4713b70-ebae-4490-bff8-e4f04db178b7"
    }
  ],
  "metadata": {
    "kernelspec": {
      "display_name": "Python 3 (ipykernel)",
      "language": "python",
      "name": "python3"
    },
    "language_info": {
      "codemirror_mode": {
        "name": "ipython",
        "version": 3
      },
      "file_extension": ".py",
      "mimetype": "text/x-python",
      "name": "python",
      "nbconvert_exporter": "python",
      "pygments_lexer": "ipython3",
      "version": "3.11.7"
    },
    "nteract": {
      "version": "nteract-front-end@1.0.0"
    }
  },
  "nbformat": 4,
  "nbformat_minor": 5
}